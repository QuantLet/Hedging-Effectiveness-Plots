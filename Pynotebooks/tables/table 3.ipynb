{
 "cells": [
  {
   "cell_type": "markdown",
   "metadata": {},
   "source": [
    "Data and codes for the copula selection results (table 3). "
   ]
  },
  {
   "cell_type": "code",
   "execution_count": 1,
   "metadata": {},
   "outputs": [],
   "source": [
    "import numpy as np\n",
    "import pandas as pd\n",
    "pd.set_option('display.max_rows', None)\n",
    "import sys, os\n",
    "sys.path.append('../../src/')\n",
    "# import toolbox\n",
    "from toolbox import *"
   ]
  },
  {
   "cell_type": "code",
   "execution_count": 4,
   "metadata": {},
   "outputs": [],
   "source": [
    "# Choose copula by AIC\n",
    "result_names = ['BBT_Tiingo',\n",
    "                'BBT_future_Tiingo_ada', \n",
    "                'BBT_future_Tiingo_eth',\n",
    "                'BBT_future_Tiingo_ltc',\n",
    "                'BBT_future_Tiingo_xrp',\n",
    "                'BBT_future_BITX',\n",
    "                'BBT_future_BITW20', \n",
    "                'BBT_future_BITW70', \n",
    "                'BBT_future_BITW100', \n",
    "                'BBT_future_CRIX']\n",
    "\n",
    "coin_names = ['btc', 'ada', 'eth', 'ltc', 'xrp',\n",
    "              'BITX', 'BITW20', 'BITW70', 'BITW100', 'CRIX']\n",
    "\n",
    "NIG_coin_names =  ['btc', 'ada', 'eth', 'ltc', 'xrp',\n",
    "              'bitx', 'bitw20', 'bitw70', 'bitw100', 'CRIX']\n",
    "\n",
    "result_coin_mapper = dict(zip(result_names, coin_names))"
   ]
  },
  {
   "cell_type": "code",
   "execution_count": 5,
   "metadata": {},
   "outputs": [],
   "source": [
    "k = {'Gaussian':1,\n",
    "     't_Copula':2, \n",
    "     't_Copula_Capped':2, \n",
    "     'Clayton':1, \n",
    "     'Frank':1, \n",
    "     'Gumbel':1,  \n",
    "     'Plackett':1,  \n",
    "     'Gauss Mix Indep':2, \n",
    "     'rotGumbel':1, \n",
    "     'NIG':3}\n",
    "\n",
    "copula_names = list(k.keys())\n",
    "\n",
    "def AIC_table(l, drop_t_Copula_Capped=True):\n",
    "    # l likelihood table\n",
    "    if drop_t_Copula_Capped:\n",
    "        l = l.drop(index='t_Copula_Capped')\n",
    "       \n",
    "    copula_names = list(l.index)\n",
    "    AIC = l.copy()\n",
    "    \n",
    "    for c in copula_names:\n",
    "        AIC.loc[c,:] = -2*l.loc[c,:]+2*k[c]\n",
    "        \n",
    "    return AIC"
   ]
  },
  {
   "cell_type": "code",
   "execution_count": 6,
   "metadata": {},
   "outputs": [],
   "source": [
    "AIC_results = dict()\n",
    "copula_to_use = dict()\n",
    "copula_count = dict()\n",
    "\n",
    "for result in result_names:\n",
    "    l = pd.read_json('../../results/%s/MM/likelihood_NIG.json'%result) # likelihood \n",
    "#     l *=300 # 300 data points\n",
    "    \n",
    "    _AIC = AIC_table(l, True)\n",
    "    AIC_results[result] = _AIC\n",
    "    \n",
    "    _copula = _AIC.idxmin(axis='rows')\n",
    "    _copula = pd.DataFrame(_copula).reset_index()\n",
    "    _copula.columns = ['file', 'copula']\n",
    "    copula_to_use[result] = _copula\n",
    "    \n",
    "    copula_count[result]= pd.pivot_table(_copula, index=['copula'], aggfunc='count')"
   ]
  },
  {
   "cell_type": "code",
   "execution_count": 11,
   "metadata": {},
   "outputs": [],
   "source": [
    "copula_count_summary = pd.DataFrame(columns=copula_names)\n",
    "\n",
    "for rm in result_names:\n",
    "    c = copula_count[rm]\n",
    "    c.index.name = None\n",
    "    c.columns = [result_coin_mapper[rm]]\n",
    "    copula_count_summary = copula_count_summary.append(c.T)\n",
    "    \n",
    "copula_count_summary = copula_count_summary.fillna(0)\n",
    "\n",
    "copula_count_summary = pd.concat([copula_count_summary.loc[:,c] for c in copula_names if c != 't_Copula_Capped'],\n",
    "          axis=1)\n",
    "\n",
    "copula_count_summary.loc['sum',:] = copula_count_summary.sum()"
   ]
  }
 ],
 "metadata": {
  "kernelspec": {
   "display_name": "Python 3",
   "language": "python",
   "name": "python3"
  },
  "language_info": {
   "codemirror_mode": {
    "name": "ipython",
    "version": 3
   },
   "file_extension": ".py",
   "mimetype": "text/x-python",
   "name": "python",
   "nbconvert_exporter": "python",
   "pygments_lexer": "ipython3",
   "version": "3.7.4"
  },
  "toc": {
   "base_numbering": 1,
   "nav_menu": {},
   "number_sections": true,
   "sideBar": true,
   "skip_h1_title": false,
   "title_cell": "Table of Contents",
   "title_sidebar": "Contents",
   "toc_cell": false,
   "toc_position": {},
   "toc_section_display": true,
   "toc_window_display": false
  }
 },
 "nbformat": 4,
 "nbformat_minor": 2
}
